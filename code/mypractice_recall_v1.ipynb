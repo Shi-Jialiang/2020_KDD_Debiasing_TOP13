{
 "cells": [
  {
   "cell_type": "code",
   "execution_count": 4,
   "metadata": {
    "ExecuteTime": {
     "end_time": "2020-06-12T08:07:32.563679Z",
     "start_time": "2020-06-12T08:07:32.069590Z"
    }
   },
   "outputs": [],
   "source": [
    "%run utils.ipynb\n",
    "\n",
    "import pandas as pd\n",
    "import numpy as np\n",
    "from tqdm import tqdm\n",
    "from annoy import AnnoyIndex\n",
    "import os\n",
    "import warnings\n",
    "from collections import defaultdict\n",
    "import math\n",
    "import pickle\n",
    "import multitasking\n",
    "import signal\n",
    "\n",
    "\n",
    "\n",
    "multitasking.set_max_threads(10)\n",
    "multitasking.set_engine('process')\n",
    "signal.signal(signal.SIGINT, multitasking.killall)\n",
    "\n",
    "pd.set_option('display.max_columns', None)\n",
    "pd.set_option('display.max_rows', None)\n",
    "pd.set_option('precision', 10)\n",
    "\n",
    "warnings.filterwarnings('ignore')"
   ]
  },
  {
   "cell_type": "code",
   "execution_count": 5,
   "metadata": {
    "ExecuteTime": {
     "end_time": "2020-06-12T08:07:32.735534Z",
     "start_time": "2020-06-12T08:07:32.566779Z"
    }
   },
   "outputs": [],
   "source": [
    "df_qtime = pd.read_pickle('../user_data/data/qtime.pkl')\n",
    "df_click = pd.read_pickle('../user_data/data/click.pkl')"
   ]
  },
  {
   "cell_type": "code",
   "execution_count": 6,
   "metadata": {
    "ExecuteTime": {
     "end_time": "2020-06-12T08:07:32.753763Z",
     "start_time": "2020-06-12T08:07:32.738083Z"
    }
   },
   "outputs": [
    {
     "data": {
      "text/plain": [
       "[0, 1, 2, 3, 4, 5, 6, 7, 8, 9]"
      ]
     },
     "execution_count": 6,
     "metadata": {},
     "output_type": "execute_result"
    }
   ],
   "source": [
    "phases = sorted(list(df_qtime['phase'].unique()))\n",
    "phases"
   ]
  },
  {
   "cell_type": "code",
   "execution_count": 7,
   "metadata": {
    "ExecuteTime": {
     "end_time": "2020-06-12T08:07:32.759252Z",
     "start_time": "2020-06-12T08:07:32.755376Z"
    }
   },
   "outputs": [],
   "source": [
    "def euc(v, w):\n",
    "    #  np.square(x): 计算数组各元素的平方\n",
    "    if np.max(v) == 0 and np.min(v) == 0 and np.max(w) == 0 and np.min(w) == 0:\n",
    "        return 10\n",
    "    return np.sqrt(np.sum(np.square(v - w)))"
   ]
  },
  {
   "cell_type": "code",
   "execution_count": 8,
   "metadata": {
    "ExecuteTime": {
     "end_time": "2020-06-12T08:07:32.786273Z",
     "start_time": "2020-06-12T08:07:32.760885Z"
    }
   },
   "outputs": [],
   "source": [
    "def cal_item_sim(df, user_col, item_col):\n",
    "    # 得出每个用户看过的items\n",
    "    user_item_ = df.groupby(user_col)[item_col].agg(\n",
    "        lambda x: list(x)).reset_index()\n",
    "    user_item_dict = dict(zip(user_item_[user_col], user_item_[item_col]))\n",
    "\n",
    "    # 得出每个用户看过的items的时间\n",
    "    user_time_ = df.groupby(user_col)['time'].agg(\n",
    "        lambda x: list(x)).reset_index()  # 引入时间因素\n",
    "    user_time_dict = dict(zip(user_time_[user_col], user_time_['time']))\n",
    "    \n",
    "    # 将训练集中每个item的特征保存起来并做一些预处理\n",
    "    txt_vec_cols = ['txt_vec_{}'.format(i) for i in range(128)]\n",
    "    img_vec_cols = ['img_vec_{}'.format(i) for i in range(128)]\n",
    "    vec_df = pd.read_csv(\n",
    "        '../data/underexpose_train/underexpose_item_feat.csv',\n",
    "        names=['item_id'] + txt_vec_cols + img_vec_cols)\n",
    "    # strip()：；去掉字符串头尾（默认为空格）\n",
    "    vec_df['txt_vec_0'] = vec_df['txt_vec_0'].apply(lambda x: x.strip()[1:])\n",
    "    vec_df['txt_vec_127'] = vec_df['txt_vec_127'].apply(\n",
    "        lambda x: x.strip()[:-1])\n",
    "    vec_df['img_vec_0'] = vec_df['img_vec_0'].apply(lambda x: x.strip()[1:])\n",
    "    vec_df['img_vec_127'] = vec_df['img_vec_127'].apply(\n",
    "        lambda x: x.strip()[:-1])\n",
    "    # 转为浮点数\n",
    "    vec_df[txt_vec_cols + img_vec_cols] = vec_df[txt_vec_cols +\n",
    "                                                 img_vec_cols].astype('float')\n",
    "    # 左侧表数据都在（df:点击数据集） 右侧匹配（每个item的向量）\n",
    "    df = df.merge(vec_df, on='item_id', how='left')\n",
    "    # 填充所有Nan为0\n",
    "    for f in tqdm(txt_vec_cols + img_vec_cols):\n",
    "        df[f] = df[f].fillna(0)\n",
    "    # 将click文件中所有item_id和txt向量，img向量对应起来存贮到字典中\n",
    "    txt_vec_dict = dict(zip(df['item_id'], df[txt_vec_cols].values))\n",
    "    img_vec_dict = dict(zip(df['item_id'], df[img_vec_cols].values))\n",
    "    \n",
    "    # 计算item之间的相似度\n",
    "    sim_item = {}\n",
    "    item_cnt = defaultdict(int)\n",
    "    # 对每个用户的每个点击过的item进行分析\n",
    "    for user, items in tqdm(user_item_dict.items()):\n",
    "        # enumerate为从零开始的index\n",
    "        for loc1, item in enumerate(items):\n",
    "            #每出现过一次加一\n",
    "            item_cnt[item] += 1\n",
    "            # dic.setdefault：如果字典中包含有给定键，则返回该键对应的值，否则返回为该键设置的值。\n",
    "            sim_item.setdefault(item, {})\n",
    "            for loc2, relate_item in enumerate(items):\n",
    "                t1 = user_time_dict[user][loc1]\n",
    "                t2 = user_time_dict[user][loc2]\n",
    "                # 除去一个用户看过的item的前后顺序大于5条的 除去是一样item的 出去两个item的时间间隔大于0.00003的 \n",
    "                if abs(loc2 -\n",
    "                       loc1) > 5 or item == relate_item or abs(t2 -\n",
    "                                                               t1) > 0.000003:\n",
    "                    continue\n",
    "                \n",
    "                sim_item[item].setdefault(relate_item, 0)\n",
    "                \n",
    "                # 计算余下的符合条件的相似度（两个向量离得越远 euc_factor越小）\n",
    "                # sqrt：返回平方根\n",
    "                txt_euc_factor = 1 / \\\n",
    "                    np.sqrt(\n",
    "                        1 + euc(txt_vec_dict[item], txt_vec_dict[relate_item]))\n",
    "                img_euc_factor = 1 / \\\n",
    "                    np.sqrt(\n",
    "                        1 + euc(img_vec_dict[item], img_vec_dict[relate_item]) / 10)\n",
    "                # 计算相似度\n",
    "                # （1 * 两个txt的相似度 * 两个img的相似度 * 权重系数1 * 权重系数2 * \n",
    "                #  在用户的点击顺序中相差多少个 * （1-这两个item点击时间的差值*10000））\n",
    "                # /\n",
    "                # log(这个用户看过多少items + 1)\n",
    "                if loc1 - loc2 > 0:\n",
    "                    sim_item[item][\n",
    "                        relate_item] += 1 * txt_euc_factor * img_euc_factor * 0.7 * (\n",
    "                            0.8**(loc1 - loc2 -\n",
    "                                  1)) * (1 - (t1 - t2) * 10000) / math.log(\n",
    "                                      1 + len(items))  # 逆向\n",
    "                else:\n",
    "                    sim_item[item][\n",
    "                        relate_item] += 1 * txt_euc_factor * img_euc_factor * 1.0 * (\n",
    "                            0.8**(loc2 - loc1 -\n",
    "                                  1)) * (1 - (t2 - t1) * 10000) / math.log(\n",
    "                                      1 + len(items))  # 正向\n",
    "    # 除以item在数据集中出现的次数 削弱经常出现的item相关系数\n",
    "    sim_item_corr = sim_item.copy()\n",
    "    for i, related_items in tqdm(sim_item.items()):\n",
    "        for j, cij in related_items.items():\n",
    "            sim_item_corr[i][j] = cij / math.sqrt(item_cnt[i] * item_cnt[j])\n",
    "\n",
    "    return sim_item_corr, user_item_dict, item_cnt, user_time_dict"
   ]
  },
  {
   "cell_type": "code",
   "execution_count": 9,
   "metadata": {
    "ExecuteTime": {
     "end_time": "2020-06-12T08:07:32.800678Z",
     "start_time": "2020-06-12T08:07:32.787916Z"
    }
   },
   "outputs": [],
   "source": [
    "def recall(df_qtime, item_sim_list, user_item, item_cnt, user_time_dict):\n",
    "    data_list = []\n",
    "    # 列出需要查询的test中的信息\n",
    "    for user_id, query_time, item_id, phase in tqdm(df_qtime.values):\n",
    "        rank = {}\n",
    "        # 此user已经看过的item\n",
    "        interacted_items = user_item[user_id]\n",
    "        # 将看过的items反过来 即越往后浏览的越靠前\n",
    "        interacted_items = interacted_items[::-1]\n",
    "        for loc, i in enumerate(interacted_items):\n",
    "            # 计算询问时间 与 点击时间的差值\n",
    "            time_factor = 1 - 1000 * \\\n",
    "                (query_time - user_time_dict[user_id]\n",
    "                 [len(interacted_items)-loc-1])\n",
    "            # 将每个已经看过的item（i）的物品相似度进行排序 按权重进行排序(d[1])\n",
    "            for j, wij in sorted(item_sim_list[i].items(),\n",
    "                                 key=lambda d: d[1],\n",
    "                                 reverse=True)[0:500]:\n",
    "                # 如果未看过 相似度 * loc代表离的越远越要削弱（平方）* 此item出现的次数 * 询问时间与点击时间的差值\n",
    "                if j not in interacted_items:\n",
    "                    rank.setdefault(j, 0)\n",
    "                    rank[j] += wij * (0.7**loc) * item_cnt[j] * time_factor\n",
    "        # 取累加和Top 100\n",
    "        sim_items = sorted(rank.items(), key=lambda d: d[1],\n",
    "                           reverse=True)[:100]\n",
    "        item_ids = [item[0] for item in sim_items]\n",
    "        item_sim_scores = [item[1] for item in sim_items]\n",
    "\n",
    "        df_temp = pd.DataFrame()\n",
    "        df_temp['item_id'] = item_ids\n",
    "        df_temp['sim_score'] = item_sim_scores\n",
    "        df_temp['user_id'] = user_id\n",
    "        df_temp['query_time'] = query_time\n",
    "        df_temp['phase'] = phase\n",
    "            \n",
    "        # 如果是测试集中需要预测的 标记为nan\n",
    "        # 否则的话标记为0 并且如果df_temp中存在此id的话 将标签改为1\n",
    "        if item_id == -1:\n",
    "            df_temp['label'] = np.nan\n",
    "        else:\n",
    "            df_temp['label'] = 0\n",
    "            df_temp.loc[df_temp['item_id'] == item_id, 'label'] = 1\n",
    "\n",
    "        df_temp.sort_values(['sim_score'], inplace=True, ascending=False)\n",
    "        df_temp = df_temp[[\n",
    "            'user_id', 'phase', 'query_time', 'item_id', 'sim_score', 'label'\n",
    "        ]]\n",
    "        df_temp['user_id'] = df_temp['user_id'].astype('int')\n",
    "        df_temp['item_id'] = df_temp['item_id'].astype('int')\n",
    "\n",
    "        data_list.append(df_temp)\n",
    "\n",
    "    df_data = pd.concat(data_list, sort=False)\n",
    "\n",
    "    return df_data"
   ]
  },
  {
   "cell_type": "code",
   "execution_count": 10,
   "metadata": {
    "ExecuteTime": {
     "end_time": "2020-06-12T08:07:32.811392Z",
     "start_time": "2020-06-12T08:07:32.802213Z"
    }
   },
   "outputs": [],
   "source": [
    "# 多线程运算\n",
    "@multitasking.task\n",
    "def work(phase, force=False):\n",
    "    # 创建目录\n",
    "    os.makedirs('../user_data/model/recall_v1', exist_ok=True)\n",
    "    if force or (\n",
    "            not os.path.exists(\n",
    "                '../user_data/model/recall_v1/sim_{}.pkl'.format(phase))\n",
    "            or not os.path.exists(\n",
    "                '../user_data/model/recall_v1/recall_{}.pkl'.format(phase))):\n",
    "        # 获取当前阶段的click\n",
    "        df_click_phase = df_click[df_click['phase'] == phase]\n",
    "        item_sim, user_item, item_cnt, user_time_dict = cal_item_sim(\n",
    "            df_click_phase, 'user_id', 'item_id')\n",
    "\n",
    "        f = open('../user_data/model/recall_v1/sim_{}.pkl'.format(phase), 'wb')\n",
    "        # 将对象item_sim保存到文件f中去。\n",
    "        pickle.dump(item_sim, f)\n",
    "        f.close()\n",
    "\n",
    "        # 获取当前阶段的qtime, 召回\n",
    "        df_qtime_phase = df_qtime[df_qtime['phase'] == phase]\n",
    "        df_data = recall(df_qtime_phase, item_sim, user_item, item_cnt,\n",
    "                         user_time_dict)\n",
    "        df_data.to_pickle(\n",
    "            '../user_data/model/recall_v1/recall_{}.pkl'.format(phase))\n",
    "\n",
    "        print('phase {} finish'.format(phase))"
   ]
  },
  {
   "cell_type": "code",
   "execution_count": 11,
   "metadata": {
    "ExecuteTime": {
     "start_time": "2020-06-12T08:07:31.326Z"
    }
   },
   "outputs": [
    {
     "name": "stderr",
     "output_type": "stream",
     "text": [
      "100%|██████████| 256/256 [00:00<00:00, 451.71it/s]\n",
      "  0%|          | 0/256 [00:00<?, ?it/s]452.28it/s]\n",
      "100%|██████████| 256/256 [00:00<00:00, 429.66it/s]\n",
      "100%|██████████| 256/256 [00:00<00:00, 367.79it/s]\n",
      "100%|██████████| 256/256 [00:00<00:00, 400.47it/s]\n",
      "100%|██████████| 256/256 [00:00<00:00, 381.52it/s]\n",
      "100%|██████████| 256/256 [00:00<00:00, 363.55it/s]\n",
      "100%|██████████| 256/256 [00:00<00:00, 354.14it/s]\n",
      "100%|██████████| 256/256 [00:00<00:00, 346.84it/s]\n",
      "100%|██████████| 256/256 [00:00<00:00, 325.10it/s]\n",
      "100%|██████████| 18505/18505 [00:43<00:00, 428.13it/s]\n",
      "100%|██████████| 40768/40768 [00:00<00:00, 68347.95it/s]\n",
      "100%|██████████| 18398/18398 [00:43<00:00, 419.90it/s]\n",
      "100%|██████████| 41024/41024 [00:00<00:00, 66075.62it/s]\n",
      "100%|██████████| 18672/18672 [00:45<00:00, 413.81it/s]\n",
      "100%|██████████| 41400/41400 [00:00<00:00, 69854.22it/s]\n",
      "100%|██████████| 20047/20047 [00:46<00:00, 431.26it/s]\n",
      "100%|██████████| 44355/44355 [00:00<00:00, 68459.65it/s]\n",
      "100%|██████████| 18821/18821 [00:48<00:00, 388.34it/s]\n",
      "100%|██████████| 42812/42812 [00:00<00:00, 64081.68it/s]\n",
      "100%|██████████| 19883/19883 [00:50<00:00, 397.57it/s]\n",
      "100%|██████████| 44973/44973 [00:00<00:00, 64356.74it/s]\n",
      "  4%|▍         | 811/18505 [00:05<01:58, 148.86it/s]s]\n",
      "100%|██████████| 45184/45184 [00:00<00:00, 63845.77it/s]\n",
      "100%|██████████| 19459/19459 [00:55<00:00, 350.37it/s]\n",
      "100%|██████████| 45625/45625 [00:00<00:00, 60271.17it/s]\n",
      "100%|██████████| 18618/18618 [00:57<00:00, 325.83it/s]\n",
      "100%|██████████| 42836/42836 [00:00<00:00, 61831.25it/s]\n",
      "100%|██████████| 20396/20396 [01:01<00:00, 332.68it/s]\n",
      "100%|██████████| 48659/48659 [00:00<00:00, 58249.93it/s]\n",
      "100%|██████████| 18505/18505 [02:04<00:00, 148.10it/s]\n",
      "100%|██████████| 18398/18398 [02:05<00:00, 146.12it/s]\n",
      "100%|██████████| 18672/18672 [02:06<00:00, 147.39it/s]\n",
      " 75%|███████▌  | 15351/20396 [01:56<00:37, 136.07it/s]"
     ]
    },
    {
     "name": "stdout",
     "output_type": "stream",
     "text": [
      "phase 0 finish\n"
     ]
    },
    {
     "name": "stderr",
     "output_type": "stream",
     "text": [
      " 86%|████████▌ | 16717/19459 [02:04<00:18, 148.85it/s]"
     ]
    },
    {
     "name": "stdout",
     "output_type": "stream",
     "text": [
      "phase 2 finish\n"
     ]
    },
    {
     "name": "stderr",
     "output_type": "stream",
     "text": [
      "100%|██████████| 20047/20047 [02:14<00:00, 148.91it/s]\n",
      " 95%|█████████▌| 18937/19883 [02:12<00:06, 149.63it/s]"
     ]
    },
    {
     "name": "stdout",
     "output_type": "stream",
     "text": [
      "phase 1 finish\n"
     ]
    },
    {
     "name": "stderr",
     "output_type": "stream",
     "text": [
      "100%|██████████| 18821/18821 [02:15<00:00, 138.58it/s]\n",
      "100%|██████████| 19883/19883 [02:18<00:00, 143.44it/s]\n",
      "100%|██████████| 19801/19801 [02:19<00:00, 142.30it/s]\n",
      "100%|██████████| 18618/18618 [02:14<00:00, 138.09it/s]\n",
      " 95%|█████████▌| 18515/19459 [02:16<00:05, 160.35it/s]"
     ]
    },
    {
     "name": "stdout",
     "output_type": "stream",
     "text": [
      "phase 9 finish\n"
     ]
    },
    {
     "name": "stderr",
     "output_type": "stream",
     "text": [
      " 97%|█████████▋| 18962/19459 [02:19<00:03, 163.76it/s]"
     ]
    },
    {
     "name": "stdout",
     "output_type": "stream",
     "text": [
      "phase 3 finish\n"
     ]
    },
    {
     "name": "stderr",
     "output_type": "stream",
     "text": [
      "100%|██████████| 19459/19459 [02:22<00:00, 136.27it/s]\n",
      " 91%|█████████ | 18555/20396 [02:18<00:13, 135.75it/s]"
     ]
    },
    {
     "name": "stdout",
     "output_type": "stream",
     "text": [
      "phase 8 finish\n"
     ]
    },
    {
     "name": "stderr",
     "output_type": "stream",
     "text": [
      " 92%|█████████▏| 18770/20396 [02:19<00:09, 177.76it/s]"
     ]
    },
    {
     "name": "stdout",
     "output_type": "stream",
     "text": [
      "phase 7 finish\n"
     ]
    },
    {
     "name": "stderr",
     "output_type": "stream",
     "text": [
      " 94%|█████████▎| 19084/20396 [02:21<00:07, 175.01it/s]"
     ]
    },
    {
     "name": "stdout",
     "output_type": "stream",
     "text": [
      "phase 4 finish\n"
     ]
    },
    {
     "name": "stderr",
     "output_type": "stream",
     "text": [
      " 98%|█████████▊| 20064/20396 [02:27<00:01, 180.12it/s]"
     ]
    },
    {
     "name": "stdout",
     "output_type": "stream",
     "text": [
      "phase 5 finish\n"
     ]
    },
    {
     "name": "stderr",
     "output_type": "stream",
     "text": [
      "100%|██████████| 20396/20396 [02:29<00:00, 136.79it/s]\n"
     ]
    },
    {
     "name": "stdout",
     "output_type": "stream",
     "text": [
      "phase 6 finish\n",
      "合并任务\n"
     ]
    },
    {
     "name": "stderr",
     "output_type": "stream",
     "text": [
      "100%|██████████| 18504/18504 [00:12<00:00, 1528.94it/s]\n"
     ]
    },
    {
     "name": "stdout",
     "output_type": "stream",
     "text": [
      "phase 0 (0.052688683624598324, 0.118156988481178, 0.024452030143499365, 0.06921754084264832)\n"
     ]
    },
    {
     "name": "stderr",
     "output_type": "stream",
     "text": [
      "100%|██████████| 18670/18670 [00:12<00:00, 1531.25it/s]\n"
     ]
    },
    {
     "name": "stdout",
     "output_type": "stream",
     "text": [
      "phase 1 (0.053108878016302555, 0.12103151186120618, 0.022319277474255158, 0.06613946800862688)\n"
     ]
    },
    {
     "name": "stderr",
     "output_type": "stream",
     "text": [
      "100%|██████████| 18396/18396 [00:12<00:00, 1524.14it/s]\n"
     ]
    },
    {
     "name": "stdout",
     "output_type": "stream",
     "text": [
      "phase 2 (0.053747003629359275, 0.12347378501316734, 0.021545213866758853, 0.06701183431952663)\n"
     ]
    },
    {
     "name": "stderr",
     "output_type": "stream",
     "text": [
      "100%|██████████| 18820/18820 [00:12<00:00, 1523.29it/s]\n"
     ]
    },
    {
     "name": "stdout",
     "output_type": "stream",
     "text": [
      "phase 3 (0.053213183533173766, 0.1263268400793188, 0.021339148442584596, 0.06913724915775597)\n"
     ]
    },
    {
     "name": "stderr",
     "output_type": "stream",
     "text": [
      "100%|██████████| 18617/18617 [00:12<00:00, 1519.63it/s]\n"
     ]
    },
    {
     "name": "stdout",
     "output_type": "stream",
     "text": [
      "phase 4 (0.057097395613414696, 0.13258426966292136, 0.022283770772319057, 0.06908197727970525)\n"
     ]
    },
    {
     "name": "stderr",
     "output_type": "stream",
     "text": [
      "100%|██████████| 19458/19458 [00:13<00:00, 1485.30it/s]\n"
     ]
    },
    {
     "name": "stdout",
     "output_type": "stream",
     "text": [
      "phase 5 (0.05681835535421251, 0.1318724874016194, 0.024099469917594683, 0.07245155855096883)\n"
     ]
    },
    {
     "name": "stderr",
     "output_type": "stream",
     "text": [
      "100%|██████████| 20392/20392 [00:13<00:00, 1525.91it/s]\n"
     ]
    },
    {
     "name": "stdout",
     "output_type": "stream",
     "text": [
      "phase 6 (0.05816232617571826, 0.13394347240915208, 0.026341899211875738, 0.07743076016499706)\n"
     ]
    },
    {
     "name": "stderr",
     "output_type": "stream",
     "text": [
      "100%|██████████| 19800/19800 [00:13<00:00, 1467.60it/s]\n"
     ]
    },
    {
     "name": "stdout",
     "output_type": "stream",
     "text": [
      "phase 7 (0.04693263221319276, 0.11141968451455232, 0.021338058168548314, 0.06417704011065006)\n"
     ]
    },
    {
     "name": "stderr",
     "output_type": "stream",
     "text": [
      "100%|██████████| 19880/19880 [00:13<00:00, 1521.67it/s]\n"
     ]
    },
    {
     "name": "stdout",
     "output_type": "stream",
     "text": [
      "phase 8 (0.04569840261620969, 0.10772211458621644, 0.021860698481693683, 0.06657496561210453)\n"
     ]
    },
    {
     "name": "stderr",
     "output_type": "stream",
     "text": [
      "100%|██████████| 20044/20044 [00:12<00:00, 1542.91it/s]"
     ]
    },
    {
     "name": "stdout",
     "output_type": "stream",
     "text": [
      "phase 9 (0.04900353889215489, 0.11139655643618475, 0.024014846973565637, 0.07035309793471019)\n"
     ]
    },
    {
     "name": "stderr",
     "output_type": "stream",
     "text": [
      "\n"
     ]
    }
   ],
   "source": [
    "item_sim_phase = {}\n",
    "df_recall = pd.DataFrame()\n",
    "val_score = np.array([0.0, 0.0, 0.0, 0.0])\n",
    "force = False\n",
    "\n",
    "for phase in phases:\n",
    "    work(phase, force)\n",
    "\n",
    "multitasking.wait_for_tasks()\n",
    "print('合并任务')\n",
    "\n",
    "for phase in phases:\n",
    "    f = open('../user_data/model/recall_v1/sim_{}.pkl'.format(phase), 'rb')\n",
    "    item_sim = pickle.load(f)\n",
    "    f.close()\n",
    "\n",
    "    df_data = pd.read_pickle(\n",
    "        '../user_data/model/recall_v1/recall_{}.pkl'.format(phase))\n",
    "\n",
    "    item_sim_phase[phase] = item_sim\n",
    "    df_recall = df_recall.append(df_data)\n",
    "\n",
    "    score = evaluate_scores(df_data, phase)\n",
    "    val_score += score\n",
    "\n",
    "    print('phase', phase, score)"
   ]
  },
  {
   "cell_type": "code",
   "execution_count": 12,
   "metadata": {
    "ExecuteTime": {
     "start_time": "2020-06-12T08:07:31.328Z"
    }
   },
   "outputs": [],
   "source": [
    "# 保存相似度字典给后续使用\n",
    "f = open('../user_data/model/if_sim.pkl', 'wb')\n",
    "pickle.dump(item_sim_phase, f)\n",
    "f.close()"
   ]
  },
  {
   "cell_type": "code",
   "execution_count": 13,
   "metadata": {
    "ExecuteTime": {
     "start_time": "2020-06-12T08:07:31.329Z"
    }
   },
   "outputs": [
    {
     "data": {
      "text/plain": [
       "array([0.5264704 , 1.21792771, 0.22959441, 0.69157549])"
      ]
     },
     "execution_count": 13,
     "metadata": {},
     "output_type": "execute_result"
    }
   ],
   "source": [
    "val_score"
   ]
  },
  {
   "cell_type": "code",
   "execution_count": 14,
   "metadata": {
    "ExecuteTime": {
     "start_time": "2020-06-12T08:07:31.330Z"
    },
    "scrolled": true
   },
   "outputs": [
    {
     "data": {
      "text/html": [
       "<div>\n",
       "<style scoped>\n",
       "    .dataframe tbody tr th:only-of-type {\n",
       "        vertical-align: middle;\n",
       "    }\n",
       "\n",
       "    .dataframe tbody tr th {\n",
       "        vertical-align: top;\n",
       "    }\n",
       "\n",
       "    .dataframe thead th {\n",
       "        text-align: right;\n",
       "    }\n",
       "</style>\n",
       "<table border=\"1\" class=\"dataframe\">\n",
       "  <thead>\n",
       "    <tr style=\"text-align: right;\">\n",
       "      <th></th>\n",
       "      <th>user_id</th>\n",
       "      <th>phase</th>\n",
       "      <th>query_time</th>\n",
       "      <th>item_id</th>\n",
       "      <th>sim_score</th>\n",
       "      <th>label</th>\n",
       "    </tr>\n",
       "  </thead>\n",
       "  <tbody>\n",
       "    <tr>\n",
       "      <th>0</th>\n",
       "      <td>1</td>\n",
       "      <td>0.0</td>\n",
       "      <td>0.9839419315</td>\n",
       "      <td>92349</td>\n",
       "      <td>0.0789179728</td>\n",
       "      <td>0.0</td>\n",
       "    </tr>\n",
       "    <tr>\n",
       "      <th>1</th>\n",
       "      <td>1</td>\n",
       "      <td>0.0</td>\n",
       "      <td>0.9839419315</td>\n",
       "      <td>87837</td>\n",
       "      <td>0.0672007507</td>\n",
       "      <td>0.0</td>\n",
       "    </tr>\n",
       "    <tr>\n",
       "      <th>2</th>\n",
       "      <td>1</td>\n",
       "      <td>0.0</td>\n",
       "      <td>0.9839419315</td>\n",
       "      <td>38168</td>\n",
       "      <td>0.0592249611</td>\n",
       "      <td>0.0</td>\n",
       "    </tr>\n",
       "    <tr>\n",
       "      <th>3</th>\n",
       "      <td>1</td>\n",
       "      <td>0.0</td>\n",
       "      <td>0.9839419315</td>\n",
       "      <td>91290</td>\n",
       "      <td>0.0493173711</td>\n",
       "      <td>0.0</td>\n",
       "    </tr>\n",
       "    <tr>\n",
       "      <th>4</th>\n",
       "      <td>1</td>\n",
       "      <td>0.0</td>\n",
       "      <td>0.9839419315</td>\n",
       "      <td>13663</td>\n",
       "      <td>0.0435710306</td>\n",
       "      <td>0.0</td>\n",
       "    </tr>\n",
       "  </tbody>\n",
       "</table>\n",
       "</div>"
      ],
      "text/plain": [
       "   user_id  phase    query_time  item_id     sim_score  label\n",
       "0        1    0.0  0.9839419315    92349  0.0789179728    0.0\n",
       "1        1    0.0  0.9839419315    87837  0.0672007507    0.0\n",
       "2        1    0.0  0.9839419315    38168  0.0592249611    0.0\n",
       "3        1    0.0  0.9839419315    91290  0.0493173711    0.0\n",
       "4        1    0.0  0.9839419315    13663  0.0435710306    0.0"
      ]
     },
     "execution_count": 14,
     "metadata": {},
     "output_type": "execute_result"
    }
   ],
   "source": [
    "df_recall.sort_values(['user_id', 'phase', 'query_time'], inplace=True)\n",
    "df_recall.to_pickle('../user_data/data/recall_v1.pkl')\n",
    "df_recall.head(15)"
   ]
  },
  {
   "cell_type": "code",
   "execution_count": 86,
   "metadata": {},
   "outputs": [
    {
     "data": {
      "text/plain": [
       "963"
      ]
     },
     "execution_count": 86,
     "metadata": {},
     "output_type": "execute_result"
    }
   ],
   "source": [
    "len(df_recall[df_recall['user_id']==1])"
   ]
  },
  {
   "cell_type": "code",
   "execution_count": null,
   "metadata": {},
   "outputs": [],
   "source": []
  }
 ],
 "metadata": {
  "kernelspec": {
   "display_name": "Python 3",
   "language": "python",
   "name": "python3"
  },
  "language_info": {
   "codemirror_mode": {
    "name": "ipython",
    "version": 3
   },
   "file_extension": ".py",
   "mimetype": "text/x-python",
   "name": "python",
   "nbconvert_exporter": "python",
   "pygments_lexer": "ipython3",
   "version": "3.8.8"
  }
 },
 "nbformat": 4,
 "nbformat_minor": 4
}
