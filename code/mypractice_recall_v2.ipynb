{
 "cells": [
  {
   "cell_type": "code",
   "execution_count": 2,
   "metadata": {
    "ExecuteTime": {
     "end_time": "2020-06-12T08:07:34.933387Z",
     "start_time": "2020-06-12T08:07:34.487069Z"
    }
   },
   "outputs": [],
   "source": [
    "%run utils.ipynb\n",
    "\n",
    "import pandas as pd\n",
    "import numpy as np\n",
    "from tqdm import tqdm\n",
    "from annoy import AnnoyIndex\n",
    "import os\n",
    "import warnings\n",
    "from collections import defaultdict\n",
    "import math\n",
    "import pickle\n",
    "import multitasking\n",
    "import signal\n",
    "\n",
    "multitasking.set_max_threads(10)\n",
    "multitasking.set_engine('process')\n",
    "signal.signal(signal.SIGINT, multitasking.killall)\n",
    "\n",
    "pd.set_option('display.max_columns', None)\n",
    "pd.set_option('display.max_rows', None)\n",
    "pd.set_option('precision', 10)\n",
    "\n",
    "warnings.filterwarnings('ignore')"
   ]
  },
  {
   "cell_type": "code",
   "execution_count": 3,
   "metadata": {
    "ExecuteTime": {
     "end_time": "2020-06-12T08:07:35.065666Z",
     "start_time": "2020-06-12T08:07:34.935946Z"
    }
   },
   "outputs": [],
   "source": [
    "df_qtime = pd.read_pickle('../user_data/data/qtime.pkl')\n",
    "df_click = pd.read_pickle('../user_data/data/click.pkl')"
   ]
  },
  {
   "cell_type": "code",
   "execution_count": 4,
   "metadata": {
    "ExecuteTime": {
     "end_time": "2020-06-12T08:07:35.079735Z",
     "start_time": "2020-06-12T08:07:35.067787Z"
    }
   },
   "outputs": [
    {
     "data": {
      "text/plain": [
       "[0, 1, 2, 3, 4, 5, 6, 7, 8, 9]"
      ]
     },
     "execution_count": 4,
     "metadata": {},
     "output_type": "execute_result"
    }
   ],
   "source": [
    "phases = sorted(list(df_qtime['phase'].unique()))\n",
    "phases"
   ]
  },
  {
   "cell_type": "code",
   "execution_count": 22,
   "metadata": {
    "ExecuteTime": {
     "end_time": "2020-06-12T08:07:35.090992Z",
     "start_time": "2020-06-12T08:07:35.081344Z"
    }
   },
   "outputs": [],
   "source": [
    "def cal_item_sim(df, user_col, item_col):\n",
    "    # df为这个阶段的click\n",
    "    # 每个user的item\n",
    "    user_item_ = df.groupby(user_col)[item_col].agg(list).reset_index()\n",
    "    user_item_dict = dict(zip(user_item_[user_col], user_item_[item_col]))\n",
    "    \n",
    "    # 每个item的user\n",
    "    item_user_ = df.groupby(item_col)[user_col].agg(list).reset_index()\n",
    "    item_user_dict = dict(zip(item_user_[item_col], item_user_[user_col]))\n",
    "    \n",
    "    # 每个user的时间\n",
    "    user_time_ = df.groupby(user_col)['time'].agg(\n",
    "        lambda x: list(x)).reset_index()\n",
    "    user_time_dict = dict(zip(user_time_[user_col], user_time_['time']))\n",
    "\n",
    "    sim_item = {}\n",
    "    # 遍历每个item里的user\n",
    "    for item, users in tqdm(item_user_dict.items()):\n",
    "        # sedefault:给字典中不存在的键赋值为默认值\n",
    "        sim_item.setdefault(item, {})\n",
    "\n",
    "        for u in users:\n",
    "            # 取每个user看过的items\n",
    "            items = user_item_dict[u]\n",
    "            \n",
    "            # 遍历所有相关item\n",
    "            for relate_item in items:\n",
    "                # 求出相隔时间\n",
    "                loc1 = user_item_dict[u].index(item)\n",
    "                loc2 = user_item_dict[u].index(relate_item)\n",
    "                \n",
    "                # 这一步没用到\n",
    "                t1 = user_time_dict[u][loc1]\n",
    "                t2 = user_time_dict[u][loc2]\n",
    "\n",
    "                sim_item[item].setdefault(relate_item, 0)\n",
    "                sim_item[item][relate_item] += 1 / \\\n",
    "                    (math.log(len(users)+1) * math.log(len(items)+1))\n",
    "\n",
    "    return sim_item, user_item_dict"
   ]
  },
  {
   "cell_type": "code",
   "execution_count": 27,
   "metadata": {
    "ExecuteTime": {
     "end_time": "2020-06-12T08:07:35.103685Z",
     "start_time": "2020-06-12T08:07:35.092473Z"
    }
   },
   "outputs": [],
   "source": [
    "def recall(df_qtime, item_sim_list, user_item):\n",
    "    data_list = []\n",
    "\n",
    "    for user_id, query_time, item_id, phase in tqdm(df_qtime.values):\n",
    "        rank = {}\n",
    "        # 取出这个user的所有item 并将所有的item 时间越靠后的越放前面\n",
    "        interacted_items = user_item[user_id]\n",
    "        interacted_items = interacted_items[::-1]\n",
    "        \n",
    "        # 遍历所有items\n",
    "        for loc, i in enumerate(interacted_items):\n",
    "            # 取每个item的相似度 并按相似度大小倒序排序（Top500）\n",
    "            for j, wij in sorted(item_sim_list[i].items(),\n",
    "                                 key=lambda d: d[1],\n",
    "                                 reverse=True)[0:500]:\n",
    "                # 过滤掉已经看过的 计算推荐rank 越靠后的求的值越小\n",
    "                if j not in interacted_items:\n",
    "                    rank.setdefault(j, 0)\n",
    "                    rank[j] += wij * (0.7**loc)\n",
    "\n",
    "        sim_items = sorted(rank.items(), key=lambda d: d[1],\n",
    "                           reverse=True)[:100]\n",
    "        item_ids = [item[0] for item in sim_items]\n",
    "        item_sim_scores = [item[1] for item in sim_items]\n",
    "\n",
    "        df_temp = pd.DataFrame()\n",
    "        df_temp['item_id'] = item_ids\n",
    "        df_temp['sim_score'] = item_sim_scores\n",
    "        df_temp['user_id'] = user_id\n",
    "        df_temp['query_time'] = query_time\n",
    "        df_temp['phase'] = phase\n",
    "\n",
    "        if item_id == -1:\n",
    "            df_temp['label'] = np.nan\n",
    "        else:\n",
    "            df_temp['label'] = 0\n",
    "            # 预测成功的label改为1 \n",
    "            df_temp.loc[df_temp['item_id'] == item_id, 'label'] = 1\n",
    "        \n",
    "        # 根据sim_score降序排序\n",
    "        df_temp.sort_values(['sim_score'], inplace=True, ascending=False)\n",
    "        df_temp = df_temp[[\n",
    "            'user_id', 'phase', 'query_time', 'item_id', 'sim_score', 'label'\n",
    "        ]]\n",
    "        df_temp['user_id'] = df_temp['user_id'].astype('int')\n",
    "        df_temp['item_id'] = df_temp['item_id'].astype('int')\n",
    "\n",
    "        data_list.append(df_temp)\n",
    "\n",
    "    df_data = pd.concat(data_list, sort=False)\n",
    "    return df_data"
   ]
  },
  {
   "cell_type": "code",
   "execution_count": 28,
   "metadata": {},
   "outputs": [
    {
     "name": "stderr",
     "output_type": "stream",
     "text": [
      "100%|██████████| 18505/18505 [02:27<00:00, 125.85it/s]\n"
     ]
    }
   ],
   "source": [
    "df_data = recall(df_qtime_phase, sim_item, user_item_dict)"
   ]
  },
  {
   "cell_type": "code",
   "execution_count": 25,
   "metadata": {},
   "outputs": [
    {
     "data": {
      "text/html": [
       "<div>\n",
       "<style scoped>\n",
       "    .dataframe tbody tr th:only-of-type {\n",
       "        vertical-align: middle;\n",
       "    }\n",
       "\n",
       "    .dataframe tbody tr th {\n",
       "        vertical-align: top;\n",
       "    }\n",
       "\n",
       "    .dataframe thead th {\n",
       "        text-align: right;\n",
       "    }\n",
       "</style>\n",
       "<table border=\"1\" class=\"dataframe\">\n",
       "  <thead>\n",
       "    <tr style=\"text-align: right;\">\n",
       "      <th></th>\n",
       "      <th>user_id</th>\n",
       "      <th>query_time</th>\n",
       "      <th>item_id</th>\n",
       "      <th>phase</th>\n",
       "    </tr>\n",
       "  </thead>\n",
       "  <tbody>\n",
       "    <tr>\n",
       "      <th>24</th>\n",
       "      <td>1</td>\n",
       "      <td>0.9839419315</td>\n",
       "      <td>69359</td>\n",
       "      <td>0</td>\n",
       "    </tr>\n",
       "    <tr>\n",
       "      <th>214</th>\n",
       "      <td>2</td>\n",
       "      <td>0.9838837214</td>\n",
       "      <td>58621</td>\n",
       "      <td>0</td>\n",
       "    </tr>\n",
       "    <tr>\n",
       "      <th>524</th>\n",
       "      <td>4</td>\n",
       "      <td>0.9838849522</td>\n",
       "      <td>90818</td>\n",
       "      <td>0</td>\n",
       "    </tr>\n",
       "    <tr>\n",
       "      <th>612</th>\n",
       "      <td>7</td>\n",
       "      <td>0.9839401177</td>\n",
       "      <td>23436</td>\n",
       "      <td>0</td>\n",
       "    </tr>\n",
       "    <tr>\n",
       "      <th>753</th>\n",
       "      <td>9</td>\n",
       "      <td>0.9838944402</td>\n",
       "      <td>114268</td>\n",
       "      <td>0</td>\n",
       "    </tr>\n",
       "  </tbody>\n",
       "</table>\n",
       "</div>"
      ],
      "text/plain": [
       "     user_id    query_time  item_id  phase\n",
       "24         1  0.9839419315    69359      0\n",
       "214        2  0.9838837214    58621      0\n",
       "524        4  0.9838849522    90818      0\n",
       "612        7  0.9839401177    23436      0\n",
       "753        9  0.9838944402   114268      0"
      ]
     },
     "execution_count": 25,
     "metadata": {},
     "output_type": "execute_result"
    }
   ],
   "source": [
    "df_data.head()"
   ]
  },
  {
   "cell_type": "code",
   "execution_count": 6,
   "metadata": {
    "ExecuteTime": {
     "end_time": "2020-06-12T08:07:35.117052Z",
     "start_time": "2020-06-12T08:07:35.105116Z"
    }
   },
   "outputs": [],
   "source": [
    "@multitasking.task\n",
    "def work(phase, force=False):\n",
    "    os.makedirs('../user_data/model/recall_v2', exist_ok=True)\n",
    "\n",
    "    if force or (\n",
    "            not os.path.exists(\n",
    "                '../user_data/model/recall_v2/sim_{}.pkl'.format(phase))\n",
    "            or not os.path.exists(\n",
    "                '../user_data/model/recall_v2/recall_{}.pkl'.format(phase))):\n",
    "        # 获取当前阶段的click\n",
    "        df_click_phase = df_click[df_click['phase'] == phase]\n",
    "        sim_item, user_item_dict = cal_item_sim(df_click_phase, 'user_id',\n",
    "                                                'item_id')\n",
    "\n",
    "        f = open('../user_data/model/recall_v2/sim_{}.pkl'.format(phase), 'wb')\n",
    "        pickle.dump(sim_item, f)\n",
    "        f.close()\n",
    "\n",
    "        # 获取当前阶段的qtime, 召回\n",
    "        df_qtime_phase = df_qtime[df_qtime['phase'] == phase]\n",
    "        df_data = recall(df_qtime_phase, sim_item, user_item_dict)\n",
    "        df_data.to_pickle(\n",
    "            '../user_data/model/recall_v2/recall_{}.pkl'.format(phase))\n",
    "\n",
    "        print('phase {} finish'.format(phase))"
   ]
  },
  {
   "cell_type": "code",
   "execution_count": 7,
   "metadata": {
    "ExecuteTime": {
     "end_time": "2020-06-12T08:07:56.177270Z",
     "start_time": "2020-06-12T08:07:35.119222Z"
    }
   },
   "outputs": [
    {
     "name": "stderr",
     "output_type": "stream",
     "text": [
      "100%|██████████| 40768/40768 [00:13<00:00, 3036.67it/s]\n",
      "100%|██████████| 41400/41400 [00:13<00:00, 3003.33it/s]\n",
      "100%|██████████| 41024/41024 [00:14<00:00, 2839.82it/s]\n",
      "100%|██████████| 44355/44355 [00:14<00:00, 3099.11it/s]\n",
      "100%|██████████| 44973/44973 [00:15<00:00, 2876.19it/s]\n",
      "100%|██████████| 42812/42812 [00:17<00:00, 2431.48it/s]\n",
      "  2%|▏         | 320/20047 [00:02<02:46, 118.80it/s]/s]\n",
      "100%|██████████| 42836/42836 [00:18<00:00, 2285.57it/s]\n",
      "  3%|▎         | 686/20047 [00:05<02:47, 115.35it/s]/s]\n",
      "100%|██████████| 48659/48659 [00:22<00:00, 2137.35it/s]\n",
      "100%|██████████| 18505/18505 [02:49<00:00, 109.34it/s]\n",
      "100%|██████████| 18672/18672 [02:52<00:00, 108.23it/s]\n",
      "100%|██████████| 18398/18398 [02:56<00:00, 104.32it/s]\n",
      " 99%|█████████▉| 19924/20047 [03:00<00:01, 93.54it/s] "
     ]
    },
    {
     "name": "stdout",
     "output_type": "stream",
     "text": [
      "phase 0 finish\n"
     ]
    },
    {
     "name": "stderr",
     "output_type": "stream",
     "text": [
      "100%|██████████| 20047/20047 [03:01<00:00, 110.57it/s]\n",
      " 95%|█████████▍| 18853/19883 [03:02<00:10, 100.15it/s]"
     ]
    },
    {
     "name": "stdout",
     "output_type": "stream",
     "text": [
      "phase 1 finish\n"
     ]
    },
    {
     "name": "stderr",
     "output_type": "stream",
     "text": [
      " 92%|█████████▏| 17308/18821 [03:04<00:14, 104.63it/s]"
     ]
    },
    {
     "name": "stdout",
     "output_type": "stream",
     "text": [
      "phase 2 finish\n"
     ]
    },
    {
     "name": "stderr",
     "output_type": "stream",
     "text": [
      "100%|██████████| 19883/19883 [03:11<00:00, 103.67it/s]\n",
      " 95%|█████████▌| 17900/18821 [03:10<00:08, 112.85it/s]"
     ]
    },
    {
     "name": "stdout",
     "output_type": "stream",
     "text": [
      "phase 9 finish\n"
     ]
    },
    {
     "name": "stderr",
     "output_type": "stream",
     "text": [
      "100%|██████████| 19801/19801 [03:18<00:00, 99.82it/s] \n",
      "100%|██████████| 18821/18821 [03:18<00:00, 94.63it/s] \n",
      " 91%|█████████ | 17638/19459 [03:19<00:26, 67.50it/s] "
     ]
    },
    {
     "name": "stdout",
     "output_type": "stream",
     "text": [
      "phase 8 finish\n"
     ]
    },
    {
     "name": "stderr",
     "output_type": "stream",
     "text": [
      "100%|██████████| 18618/18618 [03:23<00:00, 91.45it/s] \n",
      " 94%|█████████▍| 18369/19459 [03:26<00:11, 93.21it/s]]"
     ]
    },
    {
     "name": "stdout",
     "output_type": "stream",
     "text": [
      "phase 7 finish\n"
     ]
    },
    {
     "name": "stderr",
     "output_type": "stream",
     "text": [
      " 95%|█████████▍| 18448/19459 [03:27<00:11, 91.13it/s]]"
     ]
    },
    {
     "name": "stdout",
     "output_type": "stream",
     "text": [
      "phase 3 finish\n"
     ]
    },
    {
     "name": "stderr",
     "output_type": "stream",
     "text": [
      " 98%|█████████▊| 18976/19459 [03:32<00:03, 127.13it/s]"
     ]
    },
    {
     "name": "stdout",
     "output_type": "stream",
     "text": [
      "phase 4 finish\n"
     ]
    },
    {
     "name": "stderr",
     "output_type": "stream",
     "text": [
      "100%|██████████| 19459/19459 [03:36<00:00, 89.94it/s] \n",
      " 97%|█████████▋| 19820/20396 [03:45<00:05, 99.30it/s] "
     ]
    },
    {
     "name": "stdout",
     "output_type": "stream",
     "text": [
      "phase 5 finish\n"
     ]
    },
    {
     "name": "stderr",
     "output_type": "stream",
     "text": [
      "100%|██████████| 20396/20396 [03:50<00:00, 88.41it/s] \n"
     ]
    },
    {
     "name": "stdout",
     "output_type": "stream",
     "text": [
      "phase 6 finish\n",
      "合并任务\n"
     ]
    },
    {
     "name": "stderr",
     "output_type": "stream",
     "text": [
      "100%|██████████| 18505/18505 [00:13<00:00, 1379.02it/s]\n"
     ]
    },
    {
     "name": "stdout",
     "output_type": "stream",
     "text": [
      "phase 0 (0.049057716332143474, 0.10996318726992044, 0.0229912553375824, 0.0649183147033534)\n"
     ]
    },
    {
     "name": "stderr",
     "output_type": "stream",
     "text": [
      "100%|██████████| 18672/18672 [00:13<00:00, 1411.33it/s]\n"
     ]
    },
    {
     "name": "stdout",
     "output_type": "stream",
     "text": [
      "phase 1 (0.05058691751623233, 0.11141272276643456, 0.023137793927580964, 0.06182602444284687)\n"
     ]
    },
    {
     "name": "stderr",
     "output_type": "stream",
     "text": [
      "100%|██████████| 18398/18398 [00:13<00:00, 1408.13it/s]\n"
     ]
    },
    {
     "name": "stdout",
     "output_type": "stream",
     "text": [
      "phase 2 (0.051108382857133976, 0.11503471390950443, 0.022897582696588533, 0.06420118343195266)\n"
     ]
    },
    {
     "name": "stderr",
     "output_type": "stream",
     "text": [
      "100%|██████████| 18821/18821 [00:13<00:00, 1404.64it/s]\n"
     ]
    },
    {
     "name": "stdout",
     "output_type": "stream",
     "text": [
      "phase 3 (0.050695474766057395, 0.11069637233173918, 0.023064686845844114, 0.06195986524095503)\n"
     ]
    },
    {
     "name": "stderr",
     "output_type": "stream",
     "text": [
      "100%|██████████| 18618/18618 [00:13<00:00, 1405.14it/s]\n"
     ]
    },
    {
     "name": "stdout",
     "output_type": "stream",
     "text": [
      "phase 4 (0.05288440063818944, 0.11945594322885866, 0.024052184203145664, 0.06570463616825299)\n"
     ]
    },
    {
     "name": "stderr",
     "output_type": "stream",
     "text": [
      "100%|██████████| 19459/19459 [00:13<00:00, 1401.85it/s]\n"
     ]
    },
    {
     "name": "stdout",
     "output_type": "stream",
     "text": [
      "phase 5 (0.05301116816232034, 0.11822660098522167, 0.02280223188622686, 0.060777470213022024)\n"
     ]
    },
    {
     "name": "stderr",
     "output_type": "stream",
     "text": [
      "100%|██████████| 20395/20395 [00:14<00:00, 1383.87it/s]\n"
     ]
    },
    {
     "name": "stdout",
     "output_type": "stream",
     "text": [
      "phase 6 (0.054330071272787314, 0.1179542395693136, 0.02550359570933363, 0.06623453152622275)\n"
     ]
    },
    {
     "name": "stderr",
     "output_type": "stream",
     "text": [
      "100%|██████████| 19801/19801 [00:14<00:00, 1407.54it/s]\n"
     ]
    },
    {
     "name": "stdout",
     "output_type": "stream",
     "text": [
      "phase 7 (0.044299701028376194, 0.10169962230615419, 0.020781061524281722, 0.059474412171507604)\n"
     ]
    },
    {
     "name": "stderr",
     "output_type": "stream",
     "text": [
      "100%|██████████| 19882/19882 [00:14<00:00, 1408.74it/s]\n"
     ]
    },
    {
     "name": "stdout",
     "output_type": "stream",
     "text": [
      "phase 8 (0.044730125896910895, 0.09698311652366455, 0.021365178652059297, 0.06052269601100413)\n"
     ]
    },
    {
     "name": "stderr",
     "output_type": "stream",
     "text": [
      "100%|██████████| 20047/20047 [00:14<00:00, 1407.39it/s]"
     ]
    },
    {
     "name": "stdout",
     "output_type": "stream",
     "text": [
      "phase 9 (0.04502187520089846, 0.10057392730254168, 0.022375648513518566, 0.06182544970019987)\n"
     ]
    },
    {
     "name": "stderr",
     "output_type": "stream",
     "text": [
      "\n"
     ]
    }
   ],
   "source": [
    "item_sim_phase = {}\n",
    "df_recall = pd.DataFrame()\n",
    "val_score = np.array([0.0, 0.0, 0.0, 0.0])\n",
    "force = False\n",
    "\n",
    "for phase in phases:\n",
    "    work(phase, force)\n",
    "\n",
    "multitasking.wait_for_tasks()\n",
    "print('合并任务')\n",
    "\n",
    "for phase in phases:\n",
    "    f = open('../user_data/model/recall_v2/sim_{}.pkl'.format(phase), 'rb')\n",
    "    item_sim = pickle.load(f)\n",
    "    f.close()\n",
    "\n",
    "    df_data = pd.read_pickle(\n",
    "        '../user_data/model/recall_v2/recall_{}.pkl'.format(phase))\n",
    "\n",
    "    item_sim_phase[phase] = item_sim\n",
    "    df_recall = df_recall.append(df_data)\n",
    "\n",
    "    score = evaluate_scores(df_data, phase)\n",
    "    val_score += score\n",
    "\n",
    "    print('phase', phase, score)"
   ]
  },
  {
   "cell_type": "code",
   "execution_count": 8,
   "metadata": {
    "ExecuteTime": {
     "end_time": "2020-06-12T08:07:56.778571Z",
     "start_time": "2020-06-12T08:07:56.179625Z"
    }
   },
   "outputs": [],
   "source": [
    "# 保存相似度字典给后续使用\n",
    "f = open('../user_data/model/bn_sim.pkl', 'wb')\n",
    "pickle.dump(item_sim_phase, f)\n",
    "f.close()"
   ]
  },
  {
   "cell_type": "code",
   "execution_count": 9,
   "metadata": {
    "ExecuteTime": {
     "end_time": "2020-06-12T08:07:56.784646Z",
     "start_time": "2020-06-12T08:07:56.780400Z"
    }
   },
   "outputs": [
    {
     "data": {
      "text/plain": [
       "array([0.49572583, 1.10200045, 0.22897122, 0.62744458])"
      ]
     },
     "execution_count": 9,
     "metadata": {},
     "output_type": "execute_result"
    }
   ],
   "source": [
    "val_score"
   ]
  },
  {
   "cell_type": "code",
   "execution_count": 10,
   "metadata": {
    "ExecuteTime": {
     "end_time": "2020-06-12T08:07:57.281889Z",
     "start_time": "2020-06-12T08:07:56.786100Z"
    }
   },
   "outputs": [
    {
     "data": {
      "text/html": [
       "<div>\n",
       "<style scoped>\n",
       "    .dataframe tbody tr th:only-of-type {\n",
       "        vertical-align: middle;\n",
       "    }\n",
       "\n",
       "    .dataframe tbody tr th {\n",
       "        vertical-align: top;\n",
       "    }\n",
       "\n",
       "    .dataframe thead th {\n",
       "        text-align: right;\n",
       "    }\n",
       "</style>\n",
       "<table border=\"1\" class=\"dataframe\">\n",
       "  <thead>\n",
       "    <tr style=\"text-align: right;\">\n",
       "      <th></th>\n",
       "      <th>user_id</th>\n",
       "      <th>phase</th>\n",
       "      <th>query_time</th>\n",
       "      <th>item_id</th>\n",
       "      <th>sim_score</th>\n",
       "      <th>label</th>\n",
       "    </tr>\n",
       "  </thead>\n",
       "  <tbody>\n",
       "    <tr>\n",
       "      <th>0</th>\n",
       "      <td>1</td>\n",
       "      <td>0.0</td>\n",
       "      <td>0.9839419315</td>\n",
       "      <td>87837</td>\n",
       "      <td>0.3453144185</td>\n",
       "      <td>0.0</td>\n",
       "    </tr>\n",
       "    <tr>\n",
       "      <th>2</th>\n",
       "      <td>1</td>\n",
       "      <td>0.0</td>\n",
       "      <td>0.9839419315</td>\n",
       "      <td>19228</td>\n",
       "      <td>0.3453144185</td>\n",
       "      <td>0.0</td>\n",
       "    </tr>\n",
       "    <tr>\n",
       "      <th>3</th>\n",
       "      <td>1</td>\n",
       "      <td>0.0</td>\n",
       "      <td>0.9839419315</td>\n",
       "      <td>109854</td>\n",
       "      <td>0.3453144185</td>\n",
       "      <td>0.0</td>\n",
       "    </tr>\n",
       "    <tr>\n",
       "      <th>4</th>\n",
       "      <td>1</td>\n",
       "      <td>0.0</td>\n",
       "      <td>0.9839419315</td>\n",
       "      <td>55738</td>\n",
       "      <td>0.3453144185</td>\n",
       "      <td>0.0</td>\n",
       "    </tr>\n",
       "    <tr>\n",
       "      <th>1</th>\n",
       "      <td>1</td>\n",
       "      <td>0.0</td>\n",
       "      <td>0.9839419315</td>\n",
       "      <td>91290</td>\n",
       "      <td>0.3453144185</td>\n",
       "      <td>0.0</td>\n",
       "    </tr>\n",
       "  </tbody>\n",
       "</table>\n",
       "</div>"
      ],
      "text/plain": [
       "   user_id  phase    query_time  item_id     sim_score  label\n",
       "0        1    0.0  0.9839419315    87837  0.3453144185    0.0\n",
       "2        1    0.0  0.9839419315    19228  0.3453144185    0.0\n",
       "3        1    0.0  0.9839419315   109854  0.3453144185    0.0\n",
       "4        1    0.0  0.9839419315    55738  0.3453144185    0.0\n",
       "1        1    0.0  0.9839419315    91290  0.3453144185    0.0"
      ]
     },
     "execution_count": 10,
     "metadata": {},
     "output_type": "execute_result"
    }
   ],
   "source": [
    "df_recall.sort_values(['user_id', 'phase', 'query_time'], inplace=True)\n",
    "df_recall.to_pickle('../user_data/data/recall_v2.pkl')\n",
    "df_recall.head()"
   ]
  },
  {
   "cell_type": "code",
   "execution_count": null,
   "metadata": {},
   "outputs": [],
   "source": []
  }
 ],
 "metadata": {
  "kernelspec": {
   "display_name": "Python 3",
   "language": "python",
   "name": "python3"
  },
  "language_info": {
   "codemirror_mode": {
    "name": "ipython",
    "version": 3
   },
   "file_extension": ".py",
   "mimetype": "text/x-python",
   "name": "python",
   "nbconvert_exporter": "python",
   "pygments_lexer": "ipython3",
   "version": "3.8.8"
  }
 },
 "nbformat": 4,
 "nbformat_minor": 4
}
