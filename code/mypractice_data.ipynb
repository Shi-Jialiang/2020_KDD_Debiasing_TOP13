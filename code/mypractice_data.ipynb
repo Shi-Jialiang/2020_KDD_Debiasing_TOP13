{
 "cells": [
  {
   "cell_type": "code",
   "execution_count": 1,
   "metadata": {
    "ExecuteTime": {
     "end_time": "2020-06-12T07:47:43.744997Z",
     "start_time": "2020-06-12T07:47:43.370058Z"
    }
   },
   "outputs": [],
   "source": [
    "import pandas as pd\n",
    "from tqdm import tqdm\n",
    "import os\n",
    "import warnings\n",
    "\n",
    "pd.set_option('display.max_columns', None)\n",
    "pd.set_option('display.max_rows', None)\n",
    "pd.set_option('precision', 10)\n",
    "\n",
    "warnings.filterwarnings('ignore')"
   ]
  },
  {
   "cell_type": "code",
   "execution_count": 2,
   "metadata": {
    "ExecuteTime": {
     "end_time": "2020-06-12T07:47:43.749695Z",
     "start_time": "2020-06-12T07:47:43.746846Z"
    }
   },
   "outputs": [],
   "source": [
    "current_phase = 9\n",
    "phases = [i for i in range(current_phase + 1)]"
   ]
  },
  {
   "cell_type": "code",
   "execution_count": 32,
   "metadata": {
    "ExecuteTime": {
     "end_time": "2020-06-12T07:47:44.920098Z",
     "start_time": "2020-06-12T07:47:43.751417Z"
    }
   },
   "outputs": [
    {
     "name": "stderr",
     "output_type": "stream",
     "text": [
      "100%|██████████| 10/10 [00:01<00:00,  8.88it/s]\n"
     ]
    }
   ],
   "source": [
    "click_list = []\n",
    "test_qtime_list = []\n",
    "\n",
    "for i in tqdm(phases):\n",
    "    # 读取train click 点击数据\n",
    "    df_click_train = pd.read_csv(\n",
    "        '../data/underexpose_train/underexpose_train_click-{}.csv'.format(i),\n",
    "        header=None)\n",
    "    df_click_train.columns = ['user_id', 'item_id', 'time']\n",
    "    df_click_train['phase'] = i\n",
    "    click_list.append(df_click_train)\n",
    "\n",
    "    # 读取test click 点击数据和待预测数据\n",
    "    df_click_test = pd.read_csv(\n",
    "        '../data/underexpose_test/underexpose_test_click-{}/underexpose_test_click-{}.csv'\n",
    "        .format(i, i),\n",
    "        header=None)\n",
    "    df_click_test.columns = ['user_id', 'item_id', 'time']\n",
    "    df_click_test['phase'] = i\n",
    "\n",
    "    df_qtime_test = pd.read_csv(\n",
    "        '../data/underexpose_test/underexpose_test_click-{}/underexpose_test_qtime-{}.csv'\n",
    "        .format(i, i),\n",
    "        header=None)\n",
    "    df_qtime_test.columns = ['user_id', 'query_time']\n",
    "    df_qtime_test['item_id'] = -1\n",
    "    df_qtime_test['phase'] = i\n",
    "\n",
    "    click_list.append(df_click_test)\n",
    "    test_qtime_list.append(df_qtime_test)"
   ]
  },
  {
   "cell_type": "code",
   "execution_count": 33,
   "metadata": {
    "ExecuteTime": {
     "end_time": "2020-06-12T07:47:46.403189Z",
     "start_time": "2020-06-12T07:47:44.923650Z"
    },
    "scrolled": true
   },
   "outputs": [],
   "source": [
    "df_click = pd.concat(click_list)\n",
    "df_click = df_click.sort_values(['user_id', 'time']).reset_index(drop=True)"
   ]
  },
  {
   "cell_type": "code",
   "execution_count": 34,
   "metadata": {
    "ExecuteTime": {
     "end_time": "2020-06-12T07:47:46.431275Z",
     "start_time": "2020-06-12T07:47:46.406022Z"
    }
   },
   "outputs": [
    {
     "data": {
      "text/html": [
       "<div>\n",
       "<style scoped>\n",
       "    .dataframe tbody tr th:only-of-type {\n",
       "        vertical-align: middle;\n",
       "    }\n",
       "\n",
       "    .dataframe tbody tr th {\n",
       "        vertical-align: top;\n",
       "    }\n",
       "\n",
       "    .dataframe thead th {\n",
       "        text-align: right;\n",
       "    }\n",
       "</style>\n",
       "<table border=\"1\" class=\"dataframe\">\n",
       "  <thead>\n",
       "    <tr style=\"text-align: right;\">\n",
       "      <th></th>\n",
       "      <th>user_id</th>\n",
       "      <th>item_id</th>\n",
       "      <th>time</th>\n",
       "      <th>phase</th>\n",
       "    </tr>\n",
       "  </thead>\n",
       "  <tbody>\n",
       "    <tr>\n",
       "      <th>0</th>\n",
       "      <td>1</td>\n",
       "      <td>78142</td>\n",
       "      <td>0.9837416195</td>\n",
       "      <td>0</td>\n",
       "    </tr>\n",
       "    <tr>\n",
       "      <th>1</th>\n",
       "      <td>1</td>\n",
       "      <td>26646</td>\n",
       "      <td>0.9837566561</td>\n",
       "      <td>0</td>\n",
       "    </tr>\n",
       "    <tr>\n",
       "      <th>2</th>\n",
       "      <td>1</td>\n",
       "      <td>89568</td>\n",
       "      <td>0.9837634375</td>\n",
       "      <td>0</td>\n",
       "    </tr>\n",
       "    <tr>\n",
       "      <th>3</th>\n",
       "      <td>1</td>\n",
       "      <td>76240</td>\n",
       "      <td>0.9837704328</td>\n",
       "      <td>0</td>\n",
       "    </tr>\n",
       "    <tr>\n",
       "      <th>4</th>\n",
       "      <td>1</td>\n",
       "      <td>87533</td>\n",
       "      <td>0.9837895071</td>\n",
       "      <td>0</td>\n",
       "    </tr>\n",
       "  </tbody>\n",
       "</table>\n",
       "</div>"
      ],
      "text/plain": [
       "   user_id  item_id          time  phase\n",
       "0        1    78142  0.9837416195      0\n",
       "1        1    26646  0.9837566561      0\n",
       "2        1    89568  0.9837634375      0\n",
       "3        1    76240  0.9837704328      0\n",
       "4        1    87533  0.9837895071      0"
      ]
     },
     "execution_count": 34,
     "metadata": {},
     "output_type": "execute_result"
    }
   ],
   "source": [
    "df_click.head()"
   ]
  },
  {
   "cell_type": "code",
   "execution_count": 35,
   "metadata": {
    "ExecuteTime": {
     "end_time": "2020-06-12T07:47:46.471973Z",
     "start_time": "2020-06-12T07:47:46.433631Z"
    }
   },
   "outputs": [
    {
     "data": {
      "text/html": [
       "<div>\n",
       "<style scoped>\n",
       "    .dataframe tbody tr th:only-of-type {\n",
       "        vertical-align: middle;\n",
       "    }\n",
       "\n",
       "    .dataframe tbody tr th {\n",
       "        vertical-align: top;\n",
       "    }\n",
       "\n",
       "    .dataframe thead th {\n",
       "        text-align: right;\n",
       "    }\n",
       "</style>\n",
       "<table border=\"1\" class=\"dataframe\">\n",
       "  <thead>\n",
       "    <tr style=\"text-align: right;\">\n",
       "      <th></th>\n",
       "      <th>user_id</th>\n",
       "      <th>query_time</th>\n",
       "      <th>item_id</th>\n",
       "      <th>phase</th>\n",
       "    </tr>\n",
       "  </thead>\n",
       "  <tbody>\n",
       "    <tr>\n",
       "      <th>0</th>\n",
       "      <td>1</td>\n",
       "      <td>0.9839420823</td>\n",
       "      <td>-1</td>\n",
       "      <td>1</td>\n",
       "    </tr>\n",
       "    <tr>\n",
       "      <th>1</th>\n",
       "      <td>2</td>\n",
       "      <td>0.9840615264</td>\n",
       "      <td>-1</td>\n",
       "      <td>2</td>\n",
       "    </tr>\n",
       "    <tr>\n",
       "      <th>2</th>\n",
       "      <td>3</td>\n",
       "      <td>0.9841167499</td>\n",
       "      <td>-1</td>\n",
       "      <td>3</td>\n",
       "    </tr>\n",
       "    <tr>\n",
       "      <th>3</th>\n",
       "      <td>7</td>\n",
       "      <td>0.9842799720</td>\n",
       "      <td>-1</td>\n",
       "      <td>7</td>\n",
       "    </tr>\n",
       "    <tr>\n",
       "      <th>4</th>\n",
       "      <td>8</td>\n",
       "      <td>0.9842500685</td>\n",
       "      <td>-1</td>\n",
       "      <td>8</td>\n",
       "    </tr>\n",
       "  </tbody>\n",
       "</table>\n",
       "</div>"
      ],
      "text/plain": [
       "   user_id    query_time  item_id  phase\n",
       "0        1  0.9839420823       -1      1\n",
       "1        2  0.9840615264       -1      2\n",
       "2        3  0.9841167499       -1      3\n",
       "3        7  0.9842799720       -1      7\n",
       "4        8  0.9842500685       -1      8"
      ]
     },
     "execution_count": 35,
     "metadata": {},
     "output_type": "execute_result"
    }
   ],
   "source": [
    "df_test_qtime = pd.concat(test_qtime_list)\n",
    "df_test_qtime = df_test_qtime.sort_values(['user_id', 'query_time'\n",
    "                                           ]).reset_index(drop=True)\n",
    "df_test_qtime.head()"
   ]
  },
  {
   "cell_type": "code",
   "execution_count": 48,
   "metadata": {
    "ExecuteTime": {
     "end_time": "2020-06-12T07:47:46.500974Z",
     "start_time": "2020-06-12T07:47:46.475547Z"
    }
   },
   "outputs": [
    {
     "name": "stderr",
     "output_type": "stream",
     "text": [
      "100%|██████████| 10/10 [00:00<00:00, 21509.25it/s]"
     ]
    },
    {
     "name": "stdout",
     "output_type": "stream",
     "text": [
      "phase 1 测试集用户数 1726\n",
      "phase 2 测试集用户数 1690\n",
      "phase 3 测试集用户数 1675\n",
      "phase 7 测试集用户数 1797\n",
      "phase 8 测试集用户数 1818\n",
      "phase 9 测试集用户数 1752\n",
      "phase 0 测试集用户数 1663\n",
      "phase 4 测试集用户数 1708\n",
      "phase 5 测试集用户数 1798\n",
      "phase 6 测试集用户数 1821\n"
     ]
    },
    {
     "name": "stderr",
     "output_type": "stream",
     "text": [
      "\n"
     ]
    }
   ],
   "source": [
    "# 存储每个测试阶段所有用户ID的集合 无重复\n",
    "df_ = df_test_qtime.groupby(\n",
    "    ['phase'])['user_id'].apply(lambda x: sorted(list(set(x)))).reset_index()\n",
    "\n",
    "# 存储到字典中\n",
    "phase_testusers_dict = dict(zip(df_['phase'], df_['user_id']))\n",
    "\n",
    "# 打印出每个测试集合中的用户数量\n",
    "for i in tqdm(df_test_qtime['phase'].unique()):\n",
    "    print('phase {} 测试集用户数 {}'.format(i, len(phase_testusers_dict[i])))"
   ]
  },
  {
   "cell_type": "code",
   "execution_count": 60,
   "metadata": {
    "ExecuteTime": {
     "end_time": "2020-06-12T07:51:33.830362Z",
     "start_time": "2020-06-12T07:47:46.503996Z"
    },
    "scrolled": true
   },
   "outputs": [
    {
     "name": "stderr",
     "output_type": "stream",
     "text": [
      "100%|██████████| 192600/192600 [01:13<00:00, 2614.62it/s]\n"
     ]
    }
   ],
   "source": [
    "# 训练集用户 抽出行为数据最后一条作为label\n",
    "# 测试集用户 行为数据删除时间大于query_time的行为\n",
    "click_list = []\n",
    "train_qtime_list = []\n",
    "\n",
    "# 所有点击数据 根据phase和user_id进行分类\n",
    "groups = df_click.groupby(['phase', 'user_id'])\n",
    "\n",
    "#遍历每个phase和user_id 与其中的数据 g\n",
    "for (phase, user_id), g in tqdm(groups):\n",
    "    # 测试集用户\n",
    "    # 如果某个phase中的user_id在测试集中也存在\n",
    "    if user_id in phase_testusers_dict[phase]:\n",
    "        # 将测试集中'user_id'为此user_id和'phase'为此phase的'query_time'记为qtime\n",
    "        qtime = df_test_qtime[(df_test_qtime['user_id'] == user_id) & (\n",
    "            df_test_qtime['phase'] == phase)]['query_time'].values[0]\n",
    "        # 该phase和user的测试集数据为小于这个时间的click数据\n",
    "        test_click = g[g['time'] < qtime]\n",
    "        # 不存在大于qtime的历史点击记录\n",
    "        assert test_click.shape[0] == g.shape[0]\n",
    "        click_list.append(test_click)\n",
    "\n",
    "    # 训练集用户\n",
    "    else:\n",
    "        # 抽出行为数据最后一条作为label\n",
    "        train_qtime = g.tail(1)\n",
    "        train_qtime_list.append(train_qtime)\n",
    "\n",
    "        # 将最后一条数据之前的数据加入click_list\n",
    "        train_click = g.head(g.shape[0] - 1)\n",
    "        click_list.append(train_click)"
   ]
  },
  {
   "cell_type": "code",
   "execution_count": 62,
   "metadata": {
    "ExecuteTime": {
     "end_time": "2020-06-12T07:52:48.373891Z",
     "start_time": "2020-06-12T07:51:33.832261Z"
    }
   },
   "outputs": [],
   "source": [
    "df_click = pd.concat(click_list, sort=False)"
   ]
  },
  {
   "cell_type": "code",
   "execution_count": 71,
   "metadata": {
    "ExecuteTime": {
     "end_time": "2020-06-12T07:53:54.294148Z",
     "start_time": "2020-06-12T07:52:48.376640Z"
    },
    "tags": []
   },
   "outputs": [
    {
     "name": "stdout",
     "output_type": "stream",
     "text": [
      "训练集用户数 35057\n"
     ]
    }
   ],
   "source": [
    "df_train_qtime = pd.concat(train_qtime_list)\n",
    "df_train_qtime.rename(columns={'time': 'query_time'}, inplace=True)\n",
    "df_train_qtime = df_train_qtime[['user_id', 'query_time', 'item_id', 'phase']]\n",
    "print('训练集用户数', df_train_qtime['user_id'].nunique())"
   ]
  },
  {
   "cell_type": "code",
   "execution_count": 72,
   "metadata": {
    "ExecuteTime": {
     "end_time": "2020-06-12T07:53:54.327838Z",
     "start_time": "2020-06-12T07:53:54.308495Z"
    }
   },
   "outputs": [
    {
     "data": {
      "text/html": [
       "<div>\n",
       "<style scoped>\n",
       "    .dataframe tbody tr th:only-of-type {\n",
       "        vertical-align: middle;\n",
       "    }\n",
       "\n",
       "    .dataframe tbody tr th {\n",
       "        vertical-align: top;\n",
       "    }\n",
       "\n",
       "    .dataframe thead th {\n",
       "        text-align: right;\n",
       "    }\n",
       "</style>\n",
       "<table border=\"1\" class=\"dataframe\">\n",
       "  <thead>\n",
       "    <tr style=\"text-align: right;\">\n",
       "      <th></th>\n",
       "      <th>user_id</th>\n",
       "      <th>query_time</th>\n",
       "      <th>item_id</th>\n",
       "      <th>phase</th>\n",
       "    </tr>\n",
       "  </thead>\n",
       "  <tbody>\n",
       "    <tr>\n",
       "      <th>24</th>\n",
       "      <td>1</td>\n",
       "      <td>0.9839419315</td>\n",
       "      <td>69359</td>\n",
       "      <td>0</td>\n",
       "    </tr>\n",
       "    <tr>\n",
       "      <th>214</th>\n",
       "      <td>2</td>\n",
       "      <td>0.9838837214</td>\n",
       "      <td>58621</td>\n",
       "      <td>0</td>\n",
       "    </tr>\n",
       "    <tr>\n",
       "      <th>524</th>\n",
       "      <td>4</td>\n",
       "      <td>0.9838849522</td>\n",
       "      <td>90818</td>\n",
       "      <td>0</td>\n",
       "    </tr>\n",
       "    <tr>\n",
       "      <th>612</th>\n",
       "      <td>7</td>\n",
       "      <td>0.9839401177</td>\n",
       "      <td>23436</td>\n",
       "      <td>0</td>\n",
       "    </tr>\n",
       "    <tr>\n",
       "      <th>753</th>\n",
       "      <td>9</td>\n",
       "      <td>0.9838944402</td>\n",
       "      <td>114268</td>\n",
       "      <td>0</td>\n",
       "    </tr>\n",
       "  </tbody>\n",
       "</table>\n",
       "</div>"
      ],
      "text/plain": [
       "     user_id    query_time  item_id  phase\n",
       "24         1  0.9839419315    69359      0\n",
       "214        2  0.9838837214    58621      0\n",
       "524        4  0.9838849522    90818      0\n",
       "612        7  0.9839401177    23436      0\n",
       "753        9  0.9838944402   114268      0"
      ]
     },
     "execution_count": 72,
     "metadata": {},
     "output_type": "execute_result"
    }
   ],
   "source": [
    "df_train_qtime.head()"
   ]
  },
  {
   "cell_type": "code",
   "execution_count": 73,
   "metadata": {
    "ExecuteTime": {
     "end_time": "2020-06-12T07:53:54.342774Z",
     "start_time": "2020-06-12T07:53:54.329573Z"
    }
   },
   "outputs": [],
   "source": [
    "# 询问时间文件包含 测试集 和 \n",
    "# 训练集中不存在于测试集中的用户的最后一条数据 \n",
    "df_qtime = pd.concat([df_train_qtime, df_test_qtime], sort=False)"
   ]
  },
  {
   "cell_type": "code",
   "execution_count": 76,
   "metadata": {
    "ExecuteTime": {
     "end_time": "2020-06-12T07:53:54.593494Z",
     "start_time": "2020-06-12T07:53:54.345371Z"
    }
   },
   "outputs": [],
   "source": [
    "df_qtime.to_pickle('../user_data/data/qtime.pkl')\n",
    "\n",
    "# 点击率文件包含 在测试集和训练集中都出现的用户的 训练集的数据（时间小于测试集中的“询问”时间）和\n",
    "# 不存在于测试集中的用户的最后一条数据之前的数据\n",
    "df_click.to_pickle('../user_data/data/click.pkl')"
   ]
  },
  {
   "cell_type": "code",
   "execution_count": 81,
   "metadata": {},
   "outputs": [
    {
     "data": {
      "text/html": [
       "<div>\n",
       "<style scoped>\n",
       "    .dataframe tbody tr th:only-of-type {\n",
       "        vertical-align: middle;\n",
       "    }\n",
       "\n",
       "    .dataframe tbody tr th {\n",
       "        vertical-align: top;\n",
       "    }\n",
       "\n",
       "    .dataframe thead th {\n",
       "        text-align: right;\n",
       "    }\n",
       "</style>\n",
       "<table border=\"1\" class=\"dataframe\">\n",
       "  <thead>\n",
       "    <tr style=\"text-align: right;\">\n",
       "      <th></th>\n",
       "      <th>user_id</th>\n",
       "      <th>query_time</th>\n",
       "      <th>item_id</th>\n",
       "      <th>phase</th>\n",
       "    </tr>\n",
       "  </thead>\n",
       "  <tbody>\n",
       "    <tr>\n",
       "      <th>24</th>\n",
       "      <td>1</td>\n",
       "      <td>0.9839419315</td>\n",
       "      <td>69359</td>\n",
       "      <td>0</td>\n",
       "    </tr>\n",
       "    <tr>\n",
       "      <th>214</th>\n",
       "      <td>2</td>\n",
       "      <td>0.9838837214</td>\n",
       "      <td>58621</td>\n",
       "      <td>0</td>\n",
       "    </tr>\n",
       "    <tr>\n",
       "      <th>524</th>\n",
       "      <td>4</td>\n",
       "      <td>0.9838849522</td>\n",
       "      <td>90818</td>\n",
       "      <td>0</td>\n",
       "    </tr>\n",
       "    <tr>\n",
       "      <th>612</th>\n",
       "      <td>7</td>\n",
       "      <td>0.9839401177</td>\n",
       "      <td>23436</td>\n",
       "      <td>0</td>\n",
       "    </tr>\n",
       "    <tr>\n",
       "      <th>753</th>\n",
       "      <td>9</td>\n",
       "      <td>0.9838944402</td>\n",
       "      <td>114268</td>\n",
       "      <td>0</td>\n",
       "    </tr>\n",
       "  </tbody>\n",
       "</table>\n",
       "</div>"
      ],
      "text/plain": [
       "     user_id    query_time  item_id  phase\n",
       "24         1  0.9839419315    69359      0\n",
       "214        2  0.9838837214    58621      0\n",
       "524        4  0.9838849522    90818      0\n",
       "612        7  0.9839401177    23436      0\n",
       "753        9  0.9838944402   114268      0"
      ]
     },
     "execution_count": 81,
     "metadata": {},
     "output_type": "execute_result"
    }
   ],
   "source": [
    "df_qtime.head()"
   ]
  },
  {
   "cell_type": "code",
   "execution_count": null,
   "metadata": {},
   "outputs": [],
   "source": [
    "\n"
   ]
  }
 ],
 "metadata": {
  "kernelspec": {
   "display_name": "Python 3",
   "language": "python",
   "name": "python3"
  },
  "language_info": {
   "codemirror_mode": {
    "name": "ipython",
    "version": 3
   },
   "file_extension": ".py",
   "mimetype": "text/x-python",
   "name": "python",
   "nbconvert_exporter": "python",
   "pygments_lexer": "ipython3",
   "version": "3.8.8"
  }
 },
 "nbformat": 4,
 "nbformat_minor": 4
}
